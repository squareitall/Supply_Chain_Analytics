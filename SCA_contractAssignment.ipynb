{
  "nbformat": 4,
  "nbformat_minor": 0,
  "metadata": {
    "colab": {
      "name": "SCA_contractAssignment.ipynb",
      "provenance": [],
      "collapsed_sections": []
    },
    "kernelspec": {
      "name": "python3",
      "display_name": "Python 3"
    },
    "language_info": {
      "name": "python"
    }
  },
  "cells": [
    {
      "cell_type": "code",
      "metadata": {
        "id": "P32xFN758dkc"
      },
      "source": [
        "import numpy as np"
      ],
      "execution_count": null,
      "outputs": []
    },
    {
      "cell_type": "code",
      "metadata": {
        "colab": {
          "base_uri": "https://localhost:8080/"
        },
        "id": "2BcB6BxH8eve",
        "outputId": "6239cd7a-e089-460a-cfaf-4234ee01dc20"
      },
      "source": [
        "# np.random.uniform(1)\n",
        "\n",
        "\n",
        "d=100\n",
        "op_dem=120\n",
        "\n",
        "\n",
        "\n",
        "retail_rev=1\n",
        "retail_cost=0.8\n",
        "\n",
        "mp=0.2\n",
        "ml=0.8\n",
        "\n",
        "# Till 120 we will have mp but above that we will have loss\n",
        "\n",
        "p=0\n",
        "\n",
        "p_demand=0\n",
        "\n",
        "net_profit=[]\n",
        "\n",
        "for i in range(100,200):\n",
        "  p_demand=0.01\n",
        "  if i <= 120:\n",
        "    temp_profit=(i*mp)#I suppose to make profit of i*mp\n",
        "    temp_loss=(120-i)*ml#loss on the copies not sold as I expected 120 but i only sold\n",
        "    temp=temp_profit-temp_loss\n",
        "    # print(temp)\n",
        "    temp_prob=p_demand*temp #contribution of this profit to the expected profit , I bielive only probabilistic addition is required\n",
        "\n",
        "  else:\n",
        "\n",
        "    temp_p=120*0.2 #always going to remain the same because true demand is greater than expected demand\n",
        "    temp_l=0#true demand > expected demand\n",
        "    temp=temp_p-temp_l\n",
        "\n",
        "    temp=temp_profit+temp_loss\n",
        "    temp_prob=p_demand*temp\n",
        "  net_profit.append(temp)\n",
        "\n",
        "\n",
        "  p+=temp_prob\n",
        "\n",
        "\n",
        "p\n"
      ],
      "execution_count": null,
      "outputs": [
        {
          "output_type": "execute_result",
          "data": {
            "text/plain": [
              "21.899999999999974"
            ]
          },
          "metadata": {},
          "execution_count": 2
        }
      ]
    },
    {
      "cell_type": "code",
      "metadata": {
        "colab": {
          "base_uri": "https://localhost:8080/",
          "height": 286
        },
        "id": "4mtvlvba8irE",
        "outputId": "092f1967-f19e-4b99-ba3d-1b85354db2eb"
      },
      "source": [
        "import matplotlib.pyplot as plt\n",
        "plt.plot(net_profit)"
      ],
      "execution_count": null,
      "outputs": [
        {
          "output_type": "execute_result",
          "data": {
            "text/plain": [
              "[<matplotlib.lines.Line2D at 0x7ff1029ec590>]"
            ]
          },
          "metadata": {},
          "execution_count": 4
        },
        {
          "output_type": "display_data",
          "data": {
            "image/png": "[encoded data removed]",
            "text/plain": [
              "<Figure size 432x288 with 1 Axes>"
            ]
          },
          "metadata": {
            "needs_background": "light"
          }
        }
      ]
    },
    {
      "cell_type": "code",
      "metadata": {
        "colab": {
          "base_uri": "https://localhost:8080/"
        },
        "id": "FIZn6w4BkjFM",
        "outputId": "bdaa76db-3280-4aa8-84a8-d18718322066"
      },
      "source": [
        "-3000*0.1 +1250*0.15 +1250*0.3 +1250*0.2 +1250*0.15 +1250*0.1"
      ],
      "execution_count": null,
      "outputs": [
        {
          "output_type": "execute_result",
          "data": {
            "text/plain": [
              "825.0"
            ]
          },
          "metadata": {},
          "execution_count": 67
        }
      ]
    },
    {
      "cell_type": "code",
      "metadata": {
        "colab": {
          "base_uri": "https://localhost:8080/"
        },
        "id": "tef4APLf-q-Y",
        "outputId": "52f35a49-5df2-4bd4-9e19-d2b0effea0ba"
      },
      "source": [
        "# np.random.uniform(1)\n",
        "\n",
        "\n",
        "d=100\n",
        "op_dem=120\n",
        "\n",
        "\n",
        "\n",
        "retail_rev=1\n",
        "retail_cost=0.8\n",
        "\n",
        "mp=0.65-0.45\n",
        "ml=0.45\n",
        "\n",
        "# Till 120 we will have mp but above that we will have loss\n",
        "\n",
        "p=0\n",
        "\n",
        "p_demand=0\n",
        "\n",
        "op_q=131\n",
        "\n",
        "net_profit=[]\n",
        "\n",
        "for i in range(100,201):\n",
        "  p_demand=1/(200-100+1)\n",
        "  if i <= op_q:\n",
        "    temp_profit=(i*mp)#I suppose to make profit of i*mp\n",
        "    temp_loss=(op_q-i)*ml#loss on the copies not sold as I expected 120 but i only sold\n",
        "    temp=temp_profit-temp_loss\n",
        "    # print(temp)\n",
        "    temp_prob=p_demand*temp #contribution of this profit to the expected profit , I bielive only probabilistic addition is required\n",
        "\n",
        "  else:\n",
        "\n",
        "    temp_p=op_q*mp #always going to remain the same because true demand is greater than expected demand\n",
        "    temp_l=0#true demand > expected demand### mera paisa lgga hei nahi hai maine sirf 120 paper banaye \n",
        "    temp=temp_p-temp_l\n",
        "\n",
        "    temp_prob=p_demand*temp\n",
        "\n",
        "\n",
        "  net_profit.append(temp)\n",
        "\n",
        "\n",
        "  p+=temp_prob\n",
        "\n",
        "\n",
        "p\n"
      ],
      "execution_count": null,
      "outputs": [
        {
          "output_type": "execute_result",
          "data": {
            "text/plain": [
              "23.007920792079222"
            ]
          },
          "metadata": {},
          "execution_count": 10
        }
      ]
    },
    {
      "cell_type": "markdown",
      "metadata": {
        "id": "nGDYDJzMYvn3"
      },
      "source": [
        "## Revenue Sharing\n"
      ]
    },
    {
      "cell_type": "code",
      "metadata": {
        "colab": {
          "base_uri": "https://localhost:8080/"
        },
        "id": "HSSeTcMUbaMC",
        "outputId": "2e16235b-04dc-4551-ecbb-9813348c090c"
      },
      "source": [
        "mp_vendor"
      ],
      "execution_count": null,
      "outputs": [
        {
          "output_type": "execute_result",
          "data": {
            "text/plain": [
              "0.2"
            ]
          },
          "metadata": {},
          "execution_count": 58
        }
      ]
    },
    {
      "cell_type": "code",
      "metadata": {
        "colab": {
          "base_uri": "https://localhost:8080/"
        },
        "id": "BvKKxJLAHT6w",
        "outputId": "1a6dc676-d70d-43e1-9351-109924acae87"
      },
      "source": [
        "# np.random.uniform(1)\n",
        "\n",
        "\n",
        "mp_vendor=1*(65/100) - 0.45# revshare- whole_saleprice\n",
        "ml_vendor=0.45# iss amount ka koi buy back nahi hai\n",
        "\n",
        "\n",
        "mp_publisher=0.45-0.45+ 1*(35/100)#wholesale_price- printing_cost + revenue_share of end_point_price\n",
        "ml_publisher=0# no buy back and will only produce amount needed by the end point\n",
        "\n",
        "# Till 120 we will have mp but above that we will have loss\n",
        "\n",
        "p=0\n",
        "\n",
        "p_demand=0\n",
        "\n",
        "op_q=131# always determined through ml, mp of vendor last end point\n",
        "\n",
        "#ml,mp of vendor and publisher can be very different \n",
        "\n",
        "\n",
        "\n",
        "def estimate_daily_profit(ml,mp,op_q):\n",
        "  p=0\n",
        "  for i in range(100,201):\n",
        "    p_demand=1/(200-100+1)\n",
        "    if i <= op_q:\n",
        "      temp_profit=(i*mp)#I suppose to make profit of i*mp\n",
        "      temp_loss=(op_q-i)*ml#loss on the copies not sold as I expected 120 but i only sold\n",
        "      temp=temp_profit-temp_loss\n",
        "      # print(temp)\n",
        "      temp_prob=p_demand*temp #contribution of this profit to the expected profit , I bielive only probabilistic addition is required\n",
        "\n",
        "    else:\n",
        "\n",
        "      temp_p=op_q*mp #always going to remain the same because true demand is greater than expected demand\n",
        "      temp_l=0#true demand > expected demand### mera paisa lgga hei nahi hai maine sirf 120 paper banaye \n",
        "      temp=temp_p-temp_l\n",
        "\n",
        "      temp_prob=p_demand*temp\n",
        "\n",
        "\n",
        "\n",
        "\n",
        "    p+=temp_prob\n",
        "  return p\n",
        "\n",
        "\n",
        "print(estimate_daily_profit(ml_vendor,mp_vendor,131),estimate_daily_profit(ml_publisher,mp_publisher,131))"
      ],
      "execution_count": null,
      "outputs": [
        {
          "output_type": "stream",
          "name": "stdout",
          "text": [
            "23.007920792079222 44.13118811881194\n"
          ]
        }
      ]
    },
    {
      "cell_type": "markdown",
      "metadata": {
        "id": "nCV6h4TYbz1-"
      },
      "source": [
        "## BUY BACK 1"
      ]
    },
    {
      "cell_type": "code",
      "metadata": {
        "colab": {
          "base_uri": "https://localhost:8080/"
        },
        "id": "fkDiNylibybV",
        "outputId": "c0afc613-2c9e-41d6-cf29-1d96a591d8db"
      },
      "source": [
        "mp_vendor=1-0.8#rev-wholesale price\n",
        "ml_vendor=0.8-0.6# no purchase (or wholesaleprice) - buy back, this is the loss incurred\n",
        "\n",
        "\n",
        "mp_publisher=0.8-0.45# wholesale_price-printing_cost\n",
        "ml_publisher=0.60+0.45-0.8#loss of buy_back +loss of printing_cost - initial_wholesale_price_earned\n",
        "\n",
        "\n",
        "print(estimate_daily_profit(ml_vendor,mp_vendor,150),estimate_daily_profit(ml_publisher,mp_publisher,150))"
      ],
      "execution_count": null,
      "outputs": [
        {
          "output_type": "stream",
          "name": "stdout",
          "text": [
            "24.950495049504912 44.92574257425744\n"
          ]
        }
      ]
    },
    {
      "cell_type": "code",
      "metadata": {
        "id": "_bkhY65ZdHMj"
      },
      "source": [
        "def estimate_daily_profit(ml,mp,op_q,lt_demand,zero_shift=0):\n",
        "  '''\n",
        "  zero_shift= demand is ) then what is ur earning\n",
        "  '''\n",
        "  lt_net_profits=[]\n",
        "  for i in lt_demand:\n",
        "    if i <= op_q:\n",
        "      # temp_profit=(i*mp)#I suppose to make profit of i*mp\n",
        "      if i==0:\n",
        "        temp_profit=zero_shift\n",
        "        temp_loss=0\n",
        "\n",
        "      else:\n",
        "        temp_profit=(i*mp)\n",
        "        temp_loss=(op_q-i)*ml#loss on the copies not sold as I expected 120 but i only sold\n",
        "\n",
        "      \n",
        "      \n",
        "      temp=temp_profit-temp_loss\n",
        "      print(temp)\n",
        "\n",
        "    else:\n",
        "\n",
        "      temp_p=op_q*mp #always going to remain the same because true demand is greater than expected demand\n",
        "      temp_l=0#true demand > expected demand### mera paisa lgga hei nahi hai maine sirf 120 paper banaye \n",
        "      temp=temp_p-temp_l\n",
        "\n",
        "\n",
        "\n",
        "\n",
        "    lt_net_profits.append(temp)\n",
        "  return np.array(lt_net_profits)"
      ],
      "execution_count": null,
      "outputs": []
    },
    {
      "cell_type": "code",
      "metadata": {
        "colab": {
          "base_uri": "https://localhost:8080/"
        },
        "id": "ZeIBeD9SlqDQ",
        "outputId": "212c37aa-6c6d-4ba5-dfcf-df56e75acbaa"
      },
      "source": [
        "# lt_profit=estimate_daily_profit(3000,1250,1,list(range(6)))\n",
        "# lt_profit=estimate_daily_profit(2600,1225,1,list(range(6)))\n",
        "# lt_profit=estimate_daily_profit(2600,1250,1,list(range(6)))\n",
        "\n",
        "\n",
        "# lt_profit=estimate_daily_profit(0,2600+425-2250,1,list(range(6)),zero_shift=350)\n",
        "lt_profit=estimate_daily_profit(3000-2250-400,3000-2250,1,list(range(6)),zero_shift=350)"
      ],
      "execution_count": null,
      "outputs": [
        {
          "output_type": "stream",
          "name": "stdout",
          "text": [
            "350\n",
            "750\n"
          ]
        }
      ]
    },
    {
      "cell_type": "code",
      "metadata": {
        "colab": {
          "base_uri": "https://localhost:8080/"
        },
        "id": "FcIwwLCwmLCA",
        "outputId": "2744ca05-5584-4bdf-f2b1-89e8da731103"
      },
      "source": [
        "lt_prob=np.array([0.1,0.15,0.3,0.2,0.15,0.1])\n",
        "sum(lt_profit*lt_prob)"
      ],
      "execution_count": null,
      "outputs": [
        {
          "output_type": "execute_result",
          "data": {
            "text/plain": [
              "710.0"
            ]
          },
          "metadata": {},
          "execution_count": 121
        }
      ]
    },
    {
      "cell_type": "code",
      "metadata": {
        "colab": {
          "base_uri": "https://localhost:8080/"
        },
        "id": "sRnbqSBBhfne",
        "outputId": "f94acdc1-d7bc-45f6-d331-d60c783bdef5"
      },
      "source": [
        "lt_profit"
      ],
      "execution_count": null,
      "outputs": [
        {
          "output_type": "execute_result",
          "data": {
            "text/plain": [
              "array([  0, 750, 750, 750, 750, 750])"
            ]
          },
          "metadata": {},
          "execution_count": 117
        }
      ]
    },
    {
      "cell_type": "code",
      "metadata": {
        "id": "eLIyRulrn6nD"
      },
      "source": [
        ""
      ],
      "execution_count": null,
      "outputs": []
    },
    {
      "cell_type": "code",
      "metadata": {
        "colab": {
          "base_uri": "https://localhost:8080/"
        },
        "id": "NLo9b8WKNcGL",
        "outputId": "8f6179e5-3743-4653-e7a5-f2c1b7bfb941"
      },
      "source": [
        "mp=0.2\n",
        "ml=0.8\n",
        "\n",
        "\n",
        "ul=200\n",
        "ll=100\n",
        "\n",
        "\n",
        "steps=ul-ll+1\n",
        "\n",
        "step_size=(ul-ll+1)/steps\n",
        "\n",
        "#Assuming uniform distribution\n",
        "p_dist=[1/steps]*steps\n",
        "\n",
        "# plt.plot(p_dist)\n",
        "print(p_dist)\n",
        "\n",
        "q=mp/(mp+ml)#empirically determined\n",
        "\n",
        "\n",
        "optimal_num=ll\n",
        "temp_prob=0\n",
        "\n",
        "# for i,step in enumerate(range(ll,ul+1)):\n",
        "#   temp_prob += p_dist[i] # creating cdf adding prob at each step\n",
        "#   print(temp_prob,step)\n",
        "\n",
        "#   # optimal_num=step\n",
        "\n",
        "#   if temp_prob>q:\n",
        "#     optimal_num=step\n",
        "#     break\n",
        "\n",
        "\n",
        "i=0\n",
        "while temp_prob<q:\n",
        "\n",
        "  temp_prob+=p_dist[i]\n",
        "  optimal_num=i\n",
        "  i+=1\n",
        "\n",
        "# p_dist=[1/(ul-ll+1)]*"
      ],
      "execution_count": null,
      "outputs": [
        {
          "output_type": "stream",
          "name": "stdout",
          "text": [
            "[0.009900990099009901, 0.009900990099009901, 0.009900990099009901, 0.009900990099009901, 0.009900990099009901, 0.009900990099009901, 0.009900990099009901, 0.009900990099009901, 0.009900990099009901, 0.009900990099009901, 0.009900990099009901, 0.009900990099009901, 0.009900990099009901, 0.009900990099009901, 0.009900990099009901, 0.009900990099009901, 0.009900990099009901, 0.009900990099009901, 0.009900990099009901, 0.009900990099009901, 0.009900990099009901, 0.009900990099009901, 0.009900990099009901, 0.009900990099009901, 0.009900990099009901, 0.009900990099009901, 0.009900990099009901, 0.009900990099009901, 0.009900990099009901, 0.009900990099009901, 0.009900990099009901, 0.009900990099009901, 0.009900990099009901, 0.009900990099009901, 0.009900990099009901, 0.009900990099009901, 0.009900990099009901, 0.009900990099009901, 0.009900990099009901, 0.009900990099009901, 0.009900990099009901, 0.009900990099009901, 0.009900990099009901, 0.009900990099009901, 0.009900990099009901, 0.009900990099009901, 0.009900990099009901, 0.009900990099009901, 0.009900990099009901, 0.009900990099009901, 0.009900990099009901, 0.009900990099009901, 0.009900990099009901, 0.009900990099009901, 0.009900990099009901, 0.009900990099009901, 0.009900990099009901, 0.009900990099009901, 0.009900990099009901, 0.009900990099009901, 0.009900990099009901, 0.009900990099009901, 0.009900990099009901, 0.009900990099009901, 0.009900990099009901, 0.009900990099009901, 0.009900990099009901, 0.009900990099009901, 0.009900990099009901, 0.009900990099009901, 0.009900990099009901, 0.009900990099009901, 0.009900990099009901, 0.009900990099009901, 0.009900990099009901, 0.009900990099009901, 0.009900990099009901, 0.009900990099009901, 0.009900990099009901, 0.009900990099009901, 0.009900990099009901, 0.009900990099009901, 0.009900990099009901, 0.009900990099009901, 0.009900990099009901, 0.009900990099009901, 0.009900990099009901, 0.009900990099009901, 0.009900990099009901, 0.009900990099009901, 0.009900990099009901, 0.009900990099009901, 0.009900990099009901, 0.009900990099009901, 0.009900990099009901, 0.009900990099009901, 0.009900990099009901, 0.009900990099009901, 0.009900990099009901, 0.009900990099009901, 0.009900990099009901]\n"
          ]
        }
      ]
    },
    {
      "cell_type": "code",
      "metadata": {
        "colab": {
          "base_uri": "https://localhost:8080/"
        },
        "id": "R-BLcGV4HcyQ",
        "outputId": "fccb6106-be94-4ea4-9698-521a4bacd202"
      },
      "source": [
        "optimal_num"
      ],
      "execution_count": null,
      "outputs": [
        {
          "output_type": "execute_result",
          "data": {
            "text/plain": [
              "20"
            ]
          },
          "metadata": {},
          "execution_count": 41
        }
      ]
    },
    {
      "cell_type": "code",
      "metadata": {
        "colab": {
          "base_uri": "https://localhost:8080/"
        },
        "id": "AvlC2xREHlmC",
        "outputId": "3d24a02b-20d3-45c0-ed56-13b078ea1156"
      },
      "source": [
        "q"
      ],
      "execution_count": null,
      "outputs": [
        {
          "output_type": "execute_result",
          "data": {
            "text/plain": [
              "0.4375"
            ]
          },
          "metadata": {},
          "execution_count": 24
        }
      ]
    },
    {
      "cell_type": "code",
      "metadata": {
        "colab": {
          "base_uri": "https://localhost:8080/"
        },
        "id": "fL9-nms_MHZg",
        "outputId": "c9cf2dfa-1c82-455f-c585-4575234e4a49"
      },
      "source": [
        "mp"
      ],
      "execution_count": null,
      "outputs": [
        {
          "output_type": "execute_result",
          "data": {
            "text/plain": [
              "0.35000000000000003"
            ]
          },
          "metadata": {},
          "execution_count": 25
        }
      ]
    },
    {
      "cell_type": "code",
      "metadata": {
        "colab": {
          "base_uri": "https://localhost:8080/"
        },
        "id": "FITLv4eEPyBe",
        "outputId": "c5faefc1-034b-4a1e-c5f8-9ee9b2c91659"
      },
      "source": [
        "ml"
      ],
      "execution_count": null,
      "outputs": [
        {
          "output_type": "execute_result",
          "data": {
            "text/plain": [
              "0.45"
            ]
          },
          "metadata": {},
          "execution_count": 27
        }
      ]
    },
    {
      "cell_type": "code",
      "metadata": {
        "colab": {
          "base_uri": "https://localhost:8080/"
        },
        "id": "FbYVb1MfPytE",
        "outputId": "7fbf16b1-f636-45f4-8884-79399f848f11"
      },
      "source": [
        "1250/(1250+2600)"
      ],
      "execution_count": null,
      "outputs": [
        {
          "output_type": "execute_result",
          "data": {
            "text/plain": [
              "0.3246753246753247"
            ]
          },
          "metadata": {},
          "execution_count": 106
        }
      ]
    },
    {
      "cell_type": "code",
      "metadata": {
        "id": "_jOeoOn9rTdy"
      },
      "source": [
        ""
      ],
      "execution_count": null,
      "outputs": []
    }
  ]
}