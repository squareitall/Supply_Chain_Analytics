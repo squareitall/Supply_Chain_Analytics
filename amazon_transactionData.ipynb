{
  "nbformat": 4,
  "nbformat_minor": 0,
  "metadata": {
    "colab": {
      "name": "amazon_transactionData.ipynb",
      "provenance": [],
      "collapsed_sections": []
    },
    "kernelspec": {
      "name": "python3",
      "display_name": "Python 3"
    },
    "language_info": {
      "name": "python"
    }
  },
  "cells": [
    {
      "cell_type": "code",
      "execution_count": null,
      "metadata": {
        "id": "v5zwy2Cbyl7R"
      },
      "outputs": [],
      "source": [
        "import numpy as np\n",
        "import pandas as pd"
      ]
    },
    {
      "cell_type": "code",
      "source": [
        "! unzip '/content/drive/MyDrive/PricingPractise/amazon_data.zip' -d"
      ],
      "metadata": {
        "colab": {
          "base_uri": "https://localhost:8080/"
        },
        "id": "xADwIMyHyn0C",
        "outputId": "4be83a47-5ebd-460f-d737-c0881e552498"
      },
      "execution_count": null,
      "outputs": [
        {
          "output_type": "stream",
          "name": "stdout",
          "text": [
            "error:  must specify directory to which to extract with -d option\n"
          ]
        }
      ]
    },
    {
      "cell_type": "code",
      "source": [
        "df=pd.read_csv('/content/home/sdf/marketing_sample_for_amazon_com-ecommerce__20200101_20200131__10k_data.csv')"
      ],
      "metadata": {
        "id": "4Aq25FwlyxgJ"
      },
      "execution_count": null,
      "outputs": []
    },
    {
      "cell_type": "code",
      "source": [
        "df.columns=[\n",
        "            '_'.join(i.lower().split(' '))\n",
        "            for i in df.columns\n",
        "]\n",
        "df.head().T\n"
      ],
      "metadata": {
        "colab": {
          "base_uri": "https://localhost:8080/",
          "height": 1000
        },
        "id": "PZ6A8hFty627",
        "outputId": "1a483e73-1d25-44c8-b02e-d13a13d58e8b"
      },
      "execution_count": null,
      "outputs": [
        {
          "output_type": "execute_result",
          "data": {
            "text/plain": [
              "                                                                       0  \\\n",
              "uniq_id                                 4c69b61db1fc16e7013b43fc926e502d   \n",
              "product_name           DB Longboards CoreFlex Crossbow 41\" Bamboo Fib...   \n",
              "brand_name                                                           NaN   \n",
              "asin                                                                 NaN   \n",
              "category               Sports & Outdoors | Outdoor Recreation | Skate...   \n",
              "upc_ean_code                                                         NaN   \n",
              "list_price                                                           NaN   \n",
              "selling_price                                                    $237.68   \n",
              "quantity                                                             NaN   \n",
              "model_number                                                         NaN   \n",
              "about_product          Make sure this fits by entering your model num...   \n",
              "product_specification  Shipping Weight: 10.7 pounds (View shipping ra...   \n",
              "technical_details                                                    NaN   \n",
              "shipping_weight                                              10.7 pounds   \n",
              "product_dimensions                                                   NaN   \n",
              "image                  https://images-na.ssl-images-amazon.com/images...   \n",
              "variants               https://www.amazon.com/DB-Longboards-CoreFlex-...   \n",
              "sku                                                                  NaN   \n",
              "product_url            https://www.amazon.com/DB-Longboards-CoreFlex-...   \n",
              "stock                                                                NaN   \n",
              "product_details                                                      NaN   \n",
              "dimensions                                                           NaN   \n",
              "color                                                                NaN   \n",
              "ingredients                                                          NaN   \n",
              "direction_to_use                                                     NaN   \n",
              "is_amazon_seller                                                       Y   \n",
              "size_quantity_variant                                                NaN   \n",
              "product_description                                                  NaN   \n",
              "\n",
              "                                                                       1  \\\n",
              "uniq_id                                 66d49bbed043f5be260fa9f7fbff5957   \n",
              "product_name           Electronic Snap Circuits Mini Kits Classpack, ...   \n",
              "brand_name                                                           NaN   \n",
              "asin                                                                 NaN   \n",
              "category               Toys & Games | Learning & Education | Science ...   \n",
              "upc_ean_code                                                         NaN   \n",
              "list_price                                                           NaN   \n",
              "selling_price                                                     $99.95   \n",
              "quantity                                                             NaN   \n",
              "model_number                                                       55324   \n",
              "about_product          Make sure this fits by entering your model num...   \n",
              "product_specification  Product Dimensions:         14.7 x 11.1 x 10.2...   \n",
              "technical_details      The snap circuits mini kits classpack provides...   \n",
              "shipping_weight                                                 4 pounds   \n",
              "product_dimensions                14.7 x 11.1 x 10.2 inches  4.06 pounds   \n",
              "image                  https://images-na.ssl-images-amazon.com/images...   \n",
              "variants                                                             NaN   \n",
              "sku                                                                  NaN   \n",
              "product_url            https://www.amazon.com/Electronic-Circuits-Cla...   \n",
              "stock                                                                NaN   \n",
              "product_details                                                      NaN   \n",
              "dimensions                                                           NaN   \n",
              "color                                                                NaN   \n",
              "ingredients                                                          NaN   \n",
              "direction_to_use                                                     NaN   \n",
              "is_amazon_seller                                                       Y   \n",
              "size_quantity_variant                                                NaN   \n",
              "product_description                                                  NaN   \n",
              "\n",
              "                                                                       2  \\\n",
              "uniq_id                                 2c55cae269aebf53838484b0d7dd931a   \n",
              "product_name           3Doodler Create Flexy 3D Printing Filament Ref...   \n",
              "brand_name                                                           NaN   \n",
              "asin                                                                 NaN   \n",
              "category                       Toys & Games | Arts & Crafts | Craft Kits   \n",
              "upc_ean_code                                                         NaN   \n",
              "list_price                                                           NaN   \n",
              "selling_price                                                     $34.99   \n",
              "quantity                                                             NaN   \n",
              "model_number                                                         NaN   \n",
              "about_product          Make sure this fits by entering your model num...   \n",
              "product_specification  ProductDimensions:10.3x3.4x0.8inches|ItemWeigh...   \n",
              "technical_details      show up to 2 reviews by default No longer are ...   \n",
              "shipping_weight                                              12.8 ounces   \n",
              "product_dimensions                                                   NaN   \n",
              "image                  https://images-na.ssl-images-amazon.com/images...   \n",
              "variants                                                             NaN   \n",
              "sku                                                                  NaN   \n",
              "product_url            https://www.amazon.com/3Doodler-Plastic-Innova...   \n",
              "stock                                                                NaN   \n",
              "product_details                                                      NaN   \n",
              "dimensions                                                           NaN   \n",
              "color                                                                NaN   \n",
              "ingredients                                                          NaN   \n",
              "direction_to_use                                                     NaN   \n",
              "is_amazon_seller                                                       Y   \n",
              "size_quantity_variant                                                NaN   \n",
              "product_description                                                  NaN   \n",
              "\n",
              "                                                                       3  \\\n",
              "uniq_id                                 18018b6bc416dab347b1b7db79994afa   \n",
              "product_name           Guillow Airplane Design Studio with Travel Cas...   \n",
              "brand_name                                                           NaN   \n",
              "asin                                                                 NaN   \n",
              "category               Toys & Games | Hobbies | Models & Model Kits |...   \n",
              "upc_ean_code                                                         NaN   \n",
              "list_price                                                           NaN   \n",
              "selling_price                                                     $28.91   \n",
              "quantity                                                             NaN   \n",
              "model_number                                                         142   \n",
              "about_product          Make 8 different Planes at one time. | Experim...   \n",
              "product_specification  ProductDimensions:3.5x6.2x13inches|ItemWeight:...   \n",
              "technical_details      Go to your orders and start the return Select ...   \n",
              "shipping_weight                                              13.4 ounces   \n",
              "product_dimensions                                                   NaN   \n",
              "image                  https://images-na.ssl-images-amazon.com/images...   \n",
              "variants                                                             NaN   \n",
              "sku                                                                  NaN   \n",
              "product_url            https://www.amazon.com/Guillow-Airplane-Design...   \n",
              "stock                                                                NaN   \n",
              "product_details                                                      NaN   \n",
              "dimensions                                                           NaN   \n",
              "color                                                                NaN   \n",
              "ingredients                                                          NaN   \n",
              "direction_to_use                                                     NaN   \n",
              "is_amazon_seller                                                       Y   \n",
              "size_quantity_variant                                                NaN   \n",
              "product_description                                                  NaN   \n",
              "\n",
              "                                                                       4  \n",
              "uniq_id                                 e04b990e95bf73bbe6a3fa09785d7cd0  \n",
              "product_name                            Woodstock- Collage 500 pc Puzzle  \n",
              "brand_name                                                           NaN  \n",
              "asin                                                                 NaN  \n",
              "category                         Toys & Games | Puzzles | Jigsaw Puzzles  \n",
              "upc_ean_code                                                         NaN  \n",
              "list_price                                                           NaN  \n",
              "selling_price                                                     $17.49  \n",
              "quantity                                                             NaN  \n",
              "model_number                                                       62151  \n",
              "about_product          Make sure this fits by entering your model num...  \n",
              "product_specification  ProductDimensions:1.9x8x10inches|ItemWeight:13...  \n",
              "technical_details      show up to 2 reviews by default 100% Officiall...  \n",
              "shipping_weight                                              13.4 ounces  \n",
              "product_dimensions                                                   NaN  \n",
              "image                  https://images-na.ssl-images-amazon.com/images...  \n",
              "variants                                                             NaN  \n",
              "sku                                                                  NaN  \n",
              "product_url            https://www.amazon.com/Woodstock-Collage-500-p...  \n",
              "stock                                                                NaN  \n",
              "product_details                                                      NaN  \n",
              "dimensions                                                           NaN  \n",
              "color                                                                NaN  \n",
              "ingredients                                                          NaN  \n",
              "direction_to_use                                                     NaN  \n",
              "is_amazon_seller                                                       Y  \n",
              "size_quantity_variant                                                NaN  \n",
              "product_description                                                  NaN  "
            ],
            "text/html": [
              "\n",
              "  <div id=\"df-1935a6db-60c8-44fc-b7f7-0d02c8a221d7\">\n",
              "    <div class=\"colab-df-container\">\n",
              "      <div>\n",
              "<style scoped>\n",
              "    .dataframe tbody tr th:only-of-type {\n",
              "        vertical-align: middle;\n",
              "    }\n",
              "\n",
              "    .dataframe tbody tr th {\n",
              "        vertical-align: top;\n",
              "    }\n",
              "\n",
              "    .dataframe thead th {\n",
              "        text-align: right;\n",
              "    }\n",
              "</style>\n",
              "<table border=\"1\" class=\"dataframe\">\n",
              "  <thead>\n",
              "    <tr style=\"text-align: right;\">\n",
              "      <th></th>\n",
              "      <th>0</th>\n",
              "      <th>1</th>\n",
              "      <th>2</th>\n",
              "      <th>3</th>\n",
              "      <th>4</th>\n",
              "    </tr>\n",
              "  </thead>\n",
              "  <tbody>\n",
              "    <tr>\n",
              "      <th>uniq_id</th>\n",
              "      <td>4c69b61db1fc16e7013b43fc926e502d</td>\n",
              "      <td>66d49bbed043f5be260fa9f7fbff5957</td>\n",
              "      <td>2c55cae269aebf53838484b0d7dd931a</td>\n",
              "      <td>18018b6bc416dab347b1b7db79994afa</td>\n",
              "      <td>e04b990e95bf73bbe6a3fa09785d7cd0</td>\n",
              "    </tr>\n",
              "    <tr>\n",
              "      <th>product_name</th>\n",
              "      <td>DB Longboards CoreFlex Crossbow 41\" Bamboo Fib...</td>\n",
              "      <td>Electronic Snap Circuits Mini Kits Classpack, ...</td>\n",
              "      <td>3Doodler Create Flexy 3D Printing Filament Ref...</td>\n",
              "      <td>Guillow Airplane Design Studio with Travel Cas...</td>\n",
              "      <td>Woodstock- Collage 500 pc Puzzle</td>\n",
              "    </tr>\n",
              "    <tr>\n",
              "      <th>brand_name</th>\n",
              "      <td>NaN</td>\n",
              "      <td>NaN</td>\n",
              "      <td>NaN</td>\n",
              "      <td>NaN</td>\n",
              "      <td>NaN</td>\n",
              "    </tr>\n",
              "    <tr>\n",
              "      <th>asin</th>\n",
              "      <td>NaN</td>\n",
              "      <td>NaN</td>\n",
              "      <td>NaN</td>\n",
              "      <td>NaN</td>\n",
              "      <td>NaN</td>\n",
              "    </tr>\n",
              "    <tr>\n",
              "      <th>category</th>\n",
              "      <td>Sports &amp; Outdoors | Outdoor Recreation | Skate...</td>\n",
              "      <td>Toys &amp; Games | Learning &amp; Education | Science ...</td>\n",
              "      <td>Toys &amp; Games | Arts &amp; Crafts | Craft Kits</td>\n",
              "      <td>Toys &amp; Games | Hobbies | Models &amp; Model Kits |...</td>\n",
              "      <td>Toys &amp; Games | Puzzles | Jigsaw Puzzles</td>\n",
              "    </tr>\n",
              "    <tr>\n",
              "      <th>upc_ean_code</th>\n",
              "      <td>NaN</td>\n",
              "      <td>NaN</td>\n",
              "      <td>NaN</td>\n",
              "      <td>NaN</td>\n",
              "      <td>NaN</td>\n",
              "    </tr>\n",
              "    <tr>\n",
              "      <th>list_price</th>\n",
              "      <td>NaN</td>\n",
              "      <td>NaN</td>\n",
              "      <td>NaN</td>\n",
              "      <td>NaN</td>\n",
              "      <td>NaN</td>\n",
              "    </tr>\n",
              "    <tr>\n",
              "      <th>selling_price</th>\n",
              "      <td>$237.68</td>\n",
              "      <td>$99.95</td>\n",
              "      <td>$34.99</td>\n",
              "      <td>$28.91</td>\n",
              "      <td>$17.49</td>\n",
              "    </tr>\n",
              "    <tr>\n",
              "      <th>quantity</th>\n",
              "      <td>NaN</td>\n",
              "      <td>NaN</td>\n",
              "      <td>NaN</td>\n",
              "      <td>NaN</td>\n",
              "      <td>NaN</td>\n",
              "    </tr>\n",
              "    <tr>\n",
              "      <th>model_number</th>\n",
              "      <td>NaN</td>\n",
              "      <td>55324</td>\n",
              "      <td>NaN</td>\n",
              "      <td>142</td>\n",
              "      <td>62151</td>\n",
              "    </tr>\n",
              "    <tr>\n",
              "      <th>about_product</th>\n",
              "      <td>Make sure this fits by entering your model num...</td>\n",
              "      <td>Make sure this fits by entering your model num...</td>\n",
              "      <td>Make sure this fits by entering your model num...</td>\n",
              "      <td>Make 8 different Planes at one time. | Experim...</td>\n",
              "      <td>Make sure this fits by entering your model num...</td>\n",
              "    </tr>\n",
              "    <tr>\n",
              "      <th>product_specification</th>\n",
              "      <td>Shipping Weight: 10.7 pounds (View shipping ra...</td>\n",
              "      <td>Product Dimensions:         14.7 x 11.1 x 10.2...</td>\n",
              "      <td>ProductDimensions:10.3x3.4x0.8inches|ItemWeigh...</td>\n",
              "      <td>ProductDimensions:3.5x6.2x13inches|ItemWeight:...</td>\n",
              "      <td>ProductDimensions:1.9x8x10inches|ItemWeight:13...</td>\n",
              "    </tr>\n",
              "    <tr>\n",
              "      <th>technical_details</th>\n",
              "      <td>NaN</td>\n",
              "      <td>The snap circuits mini kits classpack provides...</td>\n",
              "      <td>show up to 2 reviews by default No longer are ...</td>\n",
              "      <td>Go to your orders and start the return Select ...</td>\n",
              "      <td>show up to 2 reviews by default 100% Officiall...</td>\n",
              "    </tr>\n",
              "    <tr>\n",
              "      <th>shipping_weight</th>\n",
              "      <td>10.7 pounds</td>\n",
              "      <td>4 pounds</td>\n",
              "      <td>12.8 ounces</td>\n",
              "      <td>13.4 ounces</td>\n",
              "      <td>13.4 ounces</td>\n",
              "    </tr>\n",
              "    <tr>\n",
              "      <th>product_dimensions</th>\n",
              "      <td>NaN</td>\n",
              "      <td>14.7 x 11.1 x 10.2 inches  4.06 pounds</td>\n",
              "      <td>NaN</td>\n",
              "      <td>NaN</td>\n",
              "      <td>NaN</td>\n",
              "    </tr>\n",
              "    <tr>\n",
              "      <th>image</th>\n",
              "      <td>https://images-na.ssl-images-amazon.com/images...</td>\n",
              "      <td>https://images-na.ssl-images-amazon.com/images...</td>\n",
              "      <td>https://images-na.ssl-images-amazon.com/images...</td>\n",
              "      <td>https://images-na.ssl-images-amazon.com/images...</td>\n",
              "      <td>https://images-na.ssl-images-amazon.com/images...</td>\n",
              "    </tr>\n",
              "    <tr>\n",
              "      <th>variants</th>\n",
              "      <td>https://www.amazon.com/DB-Longboards-CoreFlex-...</td>\n",
              "      <td>NaN</td>\n",
              "      <td>NaN</td>\n",
              "      <td>NaN</td>\n",
              "      <td>NaN</td>\n",
              "    </tr>\n",
              "    <tr>\n",
              "      <th>sku</th>\n",
              "      <td>NaN</td>\n",
              "      <td>NaN</td>\n",
              "      <td>NaN</td>\n",
              "      <td>NaN</td>\n",
              "      <td>NaN</td>\n",
              "    </tr>\n",
              "    <tr>\n",
              "      <th>product_url</th>\n",
              "      <td>https://www.amazon.com/DB-Longboards-CoreFlex-...</td>\n",
              "      <td>https://www.amazon.com/Electronic-Circuits-Cla...</td>\n",
              "      <td>https://www.amazon.com/3Doodler-Plastic-Innova...</td>\n",
              "      <td>https://www.amazon.com/Guillow-Airplane-Design...</td>\n",
              "      <td>https://www.amazon.com/Woodstock-Collage-500-p...</td>\n",
              "    </tr>\n",
              "    <tr>\n",
              "      <th>stock</th>\n",
              "      <td>NaN</td>\n",
              "      <td>NaN</td>\n",
              "      <td>NaN</td>\n",
              "      <td>NaN</td>\n",
              "      <td>NaN</td>\n",
              "    </tr>\n",
              "    <tr>\n",
              "      <th>product_details</th>\n",
              "      <td>NaN</td>\n",
              "      <td>NaN</td>\n",
              "      <td>NaN</td>\n",
              "      <td>NaN</td>\n",
              "      <td>NaN</td>\n",
              "    </tr>\n",
              "    <tr>\n",
              "      <th>dimensions</th>\n",
              "      <td>NaN</td>\n",
              "      <td>NaN</td>\n",
              "      <td>NaN</td>\n",
              "      <td>NaN</td>\n",
              "      <td>NaN</td>\n",
              "    </tr>\n",
              "    <tr>\n",
              "      <th>color</th>\n",
              "      <td>NaN</td>\n",
              "      <td>NaN</td>\n",
              "      <td>NaN</td>\n",
              "      <td>NaN</td>\n",
              "      <td>NaN</td>\n",
              "    </tr>\n",
              "    <tr>\n",
              "      <th>ingredients</th>\n",
              "      <td>NaN</td>\n",
              "      <td>NaN</td>\n",
              "      <td>NaN</td>\n",
              "      <td>NaN</td>\n",
              "      <td>NaN</td>\n",
              "    </tr>\n",
              "    <tr>\n",
              "      <th>direction_to_use</th>\n",
              "      <td>NaN</td>\n",
              "      <td>NaN</td>\n",
              "      <td>NaN</td>\n",
              "      <td>NaN</td>\n",
              "      <td>NaN</td>\n",
              "    </tr>\n",
              "    <tr>\n",
              "      <th>is_amazon_seller</th>\n",
              "      <td>Y</td>\n",
              "      <td>Y</td>\n",
              "      <td>Y</td>\n",
              "      <td>Y</td>\n",
              "      <td>Y</td>\n",
              "    </tr>\n",
              "    <tr>\n",
              "      <th>size_quantity_variant</th>\n",
              "      <td>NaN</td>\n",
              "      <td>NaN</td>\n",
              "      <td>NaN</td>\n",
              "      <td>NaN</td>\n",
              "      <td>NaN</td>\n",
              "    </tr>\n",
              "    <tr>\n",
              "      <th>product_description</th>\n",
              "      <td>NaN</td>\n",
              "      <td>NaN</td>\n",
              "      <td>NaN</td>\n",
              "      <td>NaN</td>\n",
              "      <td>NaN</td>\n",
              "    </tr>\n",
              "  </tbody>\n",
              "</table>\n",
              "</div>\n",
              "      <button class=\"colab-df-convert\" onclick=\"convertToInteractive('df-1935a6db-60c8-44fc-b7f7-0d02c8a221d7')\"\n",
              "              title=\"Convert this dataframe to an interactive table.\"\n",
              "              style=\"display:none;\">\n",
              "        \n",
              "  <svg xmlns=\"http://www.w3.org/2000/svg\" height=\"24px\"viewBox=\"0 0 24 24\"\n",
              "       width=\"24px\">\n",
              "    <path d=\"M0 0h24v24H0V0z\" fill=\"none\"/>\n",
              "    <path d=\"M18.56 5.44l.94 2.06.94-2.06 2.06-.94-2.06-.94-.94-2.06-.94 2.06-2.06.94zm-11 1L8.5 8.5l.94-2.06 2.06-.94-2.06-.94L8.5 2.5l-.94 2.06-2.06.94zm10 10l.94 2.06.94-2.06 2.06-.94-2.06-.94-.94-2.06-.94 2.06-2.06.94z\"/><path d=\"M17.41 7.96l-1.37-1.37c-.4-.4-.92-.59-1.43-.59-.52 0-1.04.2-1.43.59L10.3 9.45l-7.72 7.72c-.78.78-.78 2.05 0 2.83L4 21.41c.39.39.9.59 1.41.59.51 0 1.02-.2 1.41-.59l7.78-7.78 2.81-2.81c.8-.78.8-2.07 0-2.86zM5.41 20L4 18.59l7.72-7.72 1.47 1.35L5.41 20z\"/>\n",
              "  </svg>\n",
              "      </button>\n",
              "      \n",
              "  <style>\n",
              "    .colab-df-container {\n",
              "      display:flex;\n",
              "      flex-wrap:wrap;\n",
              "      gap: 12px;\n",
              "    }\n",
              "\n",
              "    .colab-df-convert {\n",
              "      background-color: #E8F0FE;\n",
              "      border: none;\n",
              "      border-radius: 50%;\n",
              "      cursor: pointer;\n",
              "      display: none;\n",
              "      fill: #1967D2;\n",
              "      height: 32px;\n",
              "      padding: 0 0 0 0;\n",
              "      width: 32px;\n",
              "    }\n",
              "\n",
              "    .colab-df-convert:hover {\n",
              "      background-color: #E2EBFA;\n",
              "      box-shadow: 0px 1px 2px rgba(60, 64, 67, 0.3), 0px 1px 3px 1px rgba(60, 64, 67, 0.15);\n",
              "      fill: #174EA6;\n",
              "    }\n",
              "\n",
              "    [theme=dark] .colab-df-convert {\n",
              "      background-color: #3B4455;\n",
              "      fill: #D2E3FC;\n",
              "    }\n",
              "\n",
              "    [theme=dark] .colab-df-convert:hover {\n",
              "      background-color: #434B5C;\n",
              "      box-shadow: 0px 1px 3px 1px rgba(0, 0, 0, 0.15);\n",
              "      filter: drop-shadow(0px 1px 2px rgba(0, 0, 0, 0.3));\n",
              "      fill: #FFFFFF;\n",
              "    }\n",
              "  </style>\n",
              "\n",
              "      <script>\n",
              "        const buttonEl =\n",
              "          document.querySelector('#df-1935a6db-60c8-44fc-b7f7-0d02c8a221d7 button.colab-df-convert');\n",
              "        buttonEl.style.display =\n",
              "          google.colab.kernel.accessAllowed ? 'block' : 'none';\n",
              "\n",
              "        async function convertToInteractive(key) {\n",
              "          const element = document.querySelector('#df-1935a6db-60c8-44fc-b7f7-0d02c8a221d7');\n",
              "          const dataTable =\n",
              "            await google.colab.kernel.invokeFunction('convertToInteractive',\n",
              "                                                     [key], {});\n",
              "          if (!dataTable) return;\n",
              "\n",
              "          const docLinkHtml = 'Like what you see? Visit the ' +\n",
              "            '<a target=\"_blank\" href=https://colab.research.google.com/notebooks/data_table.ipynb>data table notebook</a>'\n",
              "            + ' to learn more about interactive tables.';\n",
              "          element.innerHTML = '';\n",
              "          dataTable['output_type'] = 'display_data';\n",
              "          await google.colab.output.renderOutput(dataTable, element);\n",
              "          const docLink = document.createElement('div');\n",
              "          docLink.innerHTML = docLinkHtml;\n",
              "          element.appendChild(docLink);\n",
              "        }\n",
              "      </script>\n",
              "    </div>\n",
              "  </div>\n",
              "  "
            ]
          },
          "metadata": {},
          "execution_count": 8
        }
      ]
    },
    {
      "cell_type": "code",
      "source": [
        "df['product_name'].nunique()\n",
        "df['product_name'].value_counts()"
      ],
      "metadata": {
        "colab": {
          "base_uri": "https://localhost:8080/"
        },
        "id": "b3DwAHlKzgED",
        "outputId": "2ce5b441-0d06-4c8a-bc41-a7bdeb0ba81d"
      },
      "execution_count": null,
      "outputs": [
        {
          "output_type": "execute_result",
          "data": {
            "text/plain": [
              "Btswim NFL Pool Noodles (Pack of 3)                                                                                            4\n",
              "K2 Skate Men's MOD 110 Inline Skate                                                                                            4\n",
              "K2 F.I.T. 80 Boa Inline Skates                                                                                                 3\n",
              "Skechers Kids Skechers Twinkle Toes Glimmer Backpack Accessory                                                                 3\n",
              "Amscan Party Supplies, Multicolor                                                                                              3\n",
              "                                                                                                                              ..\n",
              "Orb Morphimals Pink Twisticorn - Ultra-Sized Squeeze Toy                                                                       1\n",
              "IRIS USA, Inc. WRS-3010 Rolling Shelf, Wide Deep, Light Brown                                                                  1\n",
              "Ride On Toy Go Kart, Pedal Powered Ride On Toy by Lil' Rider – Ride On Toys for Boys and Girls, For 3 – 7 Year Olds (Black)    1\n",
              "Disney Beauty & The Beast - Belle 3D Magnet Character Magnet                                                                   1\n",
              "Hasegawa Ladders Lucano Step Ladder, Orange                                                                                    1\n",
              "Name: product_name, Length: 9930, dtype: int64"
            ]
          },
          "metadata": {},
          "execution_count": 10
        }
      ]
    },
    {
      "cell_type": "code",
      "source": [
        "temp_cat=((df['category']).map(lambda x: \n",
        "                          [str(i).lower().rstrip().lstrip() for i in str(x).split('|')]\n",
        "                          )).explode()\n",
        "\n",
        "df_exploded=(df.drop(['category'],axis=1)).merge(temp_cat,how='left',\n",
        "         left_index=True,right_index=True)\n"
      ],
      "metadata": {
        "id": "TE6aouD1y-dA"
      },
      "execution_count": null,
      "outputs": []
    },
    {
      "cell_type": "code",
      "source": [
        "df_exploded['category'].value_counts()"
      ],
      "metadata": {
        "colab": {
          "base_uri": "https://localhost:8080/"
        },
        "id": "8M71i5yS2ad1",
        "outputId": "05c9e05e-7d32-4ac6-da8d-f3fd153689cc"
      },
      "execution_count": null,
      "outputs": [
        {
          "output_type": "execute_result",
          "data": {
            "text/plain": [
              "toys & games                   6662\n",
              "hobbies                         939\n",
              "nan                             830\n",
              "home & kitchen                  712\n",
              "games & accessories             645\n",
              "                               ... \n",
              "pliers & multi-tools              1\n",
              "fishing tools & accessories       1\n",
              "collectible vehicles              1\n",
              "pinewood derby                    1\n",
              "camcorders                        1\n",
              "Name: category, Length: 1163, dtype: int64"
            ]
          },
          "metadata": {},
          "execution_count": 37
        }
      ]
    },
    {
      "cell_type": "code",
      "source": [
        "df_exploded['selling_price'].map(lambda x: float(str(x).replace('$','')))\n",
        "\n",
        "df_exploded['selling_price'].map(lambda x: float(str(x).replace('$','')))\n"
      ],
      "metadata": {
        "id": "AUddCzYA4vyb"
      },
      "execution_count": null,
      "outputs": []
    },
    {
      "cell_type": "code",
      "source": [
        "df_exploded.set_index(['category','selling_price'])\n",
        "\n",
        "df.groupby(['category'])['selling_price'].mean()#apply(lambda x: pd.Series(x).T)"
      ],
      "metadata": {
        "colab": {
          "base_uri": "https://localhost:8080/",
          "height": 345
        },
        "id": "bunUx19E20Jz",
        "outputId": "9362d2a9-5abf-4ca6-8fcc-23a68d9c334a"
      },
      "execution_count": null,
      "outputs": [
        {
          "output_type": "error",
          "ename": "ValueError",
          "evalue": "ignored",
          "traceback": [
            "\u001b[0;31m---------------------------------------------------------------------------\u001b[0m",
            "\u001b[0;31mValueError\u001b[0m                                Traceback (most recent call last)",
            "\u001b[0;32m<ipython-input-45-3eb3a1a074fe>\u001b[0m in \u001b[0;36m<module>\u001b[0;34m()\u001b[0m\n\u001b[0;32m----> 1\u001b[0;31m \u001b[0mdf_exploded\u001b[0m\u001b[0;34m[\u001b[0m\u001b[0;34m'selling_price'\u001b[0m\u001b[0;34m]\u001b[0m\u001b[0;34m.\u001b[0m\u001b[0mmap\u001b[0m\u001b[0;34m(\u001b[0m\u001b[0;32mlambda\u001b[0m \u001b[0mx\u001b[0m\u001b[0;34m:\u001b[0m \u001b[0mfloat\u001b[0m\u001b[0;34m(\u001b[0m\u001b[0mstr\u001b[0m\u001b[0;34m(\u001b[0m\u001b[0mx\u001b[0m\u001b[0;34m)\u001b[0m\u001b[0;34m.\u001b[0m\u001b[0mreplace\u001b[0m\u001b[0;34m(\u001b[0m\u001b[0;34m'$'\u001b[0m\u001b[0;34m,\u001b[0m\u001b[0;34m''\u001b[0m\u001b[0;34m)\u001b[0m\u001b[0;34m)\u001b[0m\u001b[0;34m)\u001b[0m\u001b[0;34m\u001b[0m\u001b[0;34m\u001b[0m\u001b[0m\n\u001b[0m\u001b[1;32m      2\u001b[0m \u001b[0mdf_exploded\u001b[0m\u001b[0;34m.\u001b[0m\u001b[0mset_index\u001b[0m\u001b[0;34m(\u001b[0m\u001b[0;34m[\u001b[0m\u001b[0;34m'category'\u001b[0m\u001b[0;34m,\u001b[0m\u001b[0;34m'selling_price'\u001b[0m\u001b[0;34m]\u001b[0m\u001b[0;34m)\u001b[0m\u001b[0;34m\u001b[0m\u001b[0;34m\u001b[0m\u001b[0m\n\u001b[1;32m      3\u001b[0m \u001b[0;34m\u001b[0m\u001b[0m\n\u001b[1;32m      4\u001b[0m \u001b[0mdf\u001b[0m\u001b[0;34m.\u001b[0m\u001b[0mgroupby\u001b[0m\u001b[0;34m(\u001b[0m\u001b[0;34m[\u001b[0m\u001b[0;34m'category'\u001b[0m\u001b[0;34m]\u001b[0m\u001b[0;34m)\u001b[0m\u001b[0;34m[\u001b[0m\u001b[0;34m'selling_price'\u001b[0m\u001b[0;34m]\u001b[0m\u001b[0;34m.\u001b[0m\u001b[0mmean\u001b[0m\u001b[0;34m(\u001b[0m\u001b[0;34m)\u001b[0m\u001b[0;31m#apply(lambda x: pd.Series(x).T)\u001b[0m\u001b[0;34m\u001b[0m\u001b[0;34m\u001b[0m\u001b[0m\n",
            "\u001b[0;32m/usr/local/lib/python3.7/dist-packages/pandas/core/series.py\u001b[0m in \u001b[0;36mmap\u001b[0;34m(self, arg, na_action)\u001b[0m\n\u001b[1;32m   4159\u001b[0m         \u001b[0mdtype\u001b[0m\u001b[0;34m:\u001b[0m \u001b[0mobject\u001b[0m\u001b[0;34m\u001b[0m\u001b[0;34m\u001b[0m\u001b[0m\n\u001b[1;32m   4160\u001b[0m         \"\"\"\n\u001b[0;32m-> 4161\u001b[0;31m         \u001b[0mnew_values\u001b[0m \u001b[0;34m=\u001b[0m \u001b[0msuper\u001b[0m\u001b[0;34m(\u001b[0m\u001b[0;34m)\u001b[0m\u001b[0;34m.\u001b[0m\u001b[0m_map_values\u001b[0m\u001b[0;34m(\u001b[0m\u001b[0marg\u001b[0m\u001b[0;34m,\u001b[0m \u001b[0mna_action\u001b[0m\u001b[0;34m=\u001b[0m\u001b[0mna_action\u001b[0m\u001b[0;34m)\u001b[0m\u001b[0;34m\u001b[0m\u001b[0;34m\u001b[0m\u001b[0m\n\u001b[0m\u001b[1;32m   4162\u001b[0m         return self._constructor(new_values, index=self.index).__finalize__(\n\u001b[1;32m   4163\u001b[0m             \u001b[0mself\u001b[0m\u001b[0;34m,\u001b[0m \u001b[0mmethod\u001b[0m\u001b[0;34m=\u001b[0m\u001b[0;34m\"map\"\u001b[0m\u001b[0;34m\u001b[0m\u001b[0;34m\u001b[0m\u001b[0m\n",
            "\u001b[0;32m/usr/local/lib/python3.7/dist-packages/pandas/core/base.py\u001b[0m in \u001b[0;36m_map_values\u001b[0;34m(self, mapper, na_action)\u001b[0m\n\u001b[1;32m    868\u001b[0m \u001b[0;34m\u001b[0m\u001b[0m\n\u001b[1;32m    869\u001b[0m         \u001b[0;31m# mapper is a function\u001b[0m\u001b[0;34m\u001b[0m\u001b[0;34m\u001b[0m\u001b[0;34m\u001b[0m\u001b[0m\n\u001b[0;32m--> 870\u001b[0;31m         \u001b[0mnew_values\u001b[0m \u001b[0;34m=\u001b[0m \u001b[0mmap_f\u001b[0m\u001b[0;34m(\u001b[0m\u001b[0mvalues\u001b[0m\u001b[0;34m,\u001b[0m \u001b[0mmapper\u001b[0m\u001b[0;34m)\u001b[0m\u001b[0;34m\u001b[0m\u001b[0;34m\u001b[0m\u001b[0m\n\u001b[0m\u001b[1;32m    871\u001b[0m \u001b[0;34m\u001b[0m\u001b[0m\n\u001b[1;32m    872\u001b[0m         \u001b[0;32mreturn\u001b[0m \u001b[0mnew_values\u001b[0m\u001b[0;34m\u001b[0m\u001b[0;34m\u001b[0m\u001b[0m\n",
            "\u001b[0;32m/usr/local/lib/python3.7/dist-packages/pandas/_libs/lib.pyx\u001b[0m in \u001b[0;36mpandas._libs.lib.map_infer\u001b[0;34m()\u001b[0m\n",
            "\u001b[0;32m<ipython-input-45-3eb3a1a074fe>\u001b[0m in \u001b[0;36m<lambda>\u001b[0;34m(x)\u001b[0m\n\u001b[0;32m----> 1\u001b[0;31m \u001b[0mdf_exploded\u001b[0m\u001b[0;34m[\u001b[0m\u001b[0;34m'selling_price'\u001b[0m\u001b[0;34m]\u001b[0m\u001b[0;34m.\u001b[0m\u001b[0mmap\u001b[0m\u001b[0;34m(\u001b[0m\u001b[0;32mlambda\u001b[0m \u001b[0mx\u001b[0m\u001b[0;34m:\u001b[0m \u001b[0mfloat\u001b[0m\u001b[0;34m(\u001b[0m\u001b[0mstr\u001b[0m\u001b[0;34m(\u001b[0m\u001b[0mx\u001b[0m\u001b[0;34m)\u001b[0m\u001b[0;34m.\u001b[0m\u001b[0mreplace\u001b[0m\u001b[0;34m(\u001b[0m\u001b[0;34m'$'\u001b[0m\u001b[0;34m,\u001b[0m\u001b[0;34m''\u001b[0m\u001b[0;34m)\u001b[0m\u001b[0;34m)\u001b[0m\u001b[0;34m)\u001b[0m\u001b[0;34m\u001b[0m\u001b[0;34m\u001b[0m\u001b[0m\n\u001b[0m\u001b[1;32m      2\u001b[0m \u001b[0mdf_exploded\u001b[0m\u001b[0;34m.\u001b[0m\u001b[0mset_index\u001b[0m\u001b[0;34m(\u001b[0m\u001b[0;34m[\u001b[0m\u001b[0;34m'category'\u001b[0m\u001b[0;34m,\u001b[0m\u001b[0;34m'selling_price'\u001b[0m\u001b[0;34m]\u001b[0m\u001b[0;34m)\u001b[0m\u001b[0;34m\u001b[0m\u001b[0;34m\u001b[0m\u001b[0m\n\u001b[1;32m      3\u001b[0m \u001b[0;34m\u001b[0m\u001b[0m\n\u001b[1;32m      4\u001b[0m \u001b[0mdf\u001b[0m\u001b[0;34m.\u001b[0m\u001b[0mgroupby\u001b[0m\u001b[0;34m(\u001b[0m\u001b[0;34m[\u001b[0m\u001b[0;34m'category'\u001b[0m\u001b[0;34m]\u001b[0m\u001b[0;34m)\u001b[0m\u001b[0;34m[\u001b[0m\u001b[0;34m'selling_price'\u001b[0m\u001b[0;34m]\u001b[0m\u001b[0;34m.\u001b[0m\u001b[0mmean\u001b[0m\u001b[0;34m(\u001b[0m\u001b[0;34m)\u001b[0m\u001b[0;31m#apply(lambda x: pd.Series(x).T)\u001b[0m\u001b[0;34m\u001b[0m\u001b[0;34m\u001b[0m\u001b[0m\n",
            "\u001b[0;31mValueError\u001b[0m: could not convert string to float: '74.99 - 249.99'"
          ]
        }
      ]
    },
    {
      "cell_type": "code",
      "source": [
        "df_exploded.groupby(['category'])[['selling_price']].apply(lambda x: list(x['selling_price'].head(2).values))"
      ],
      "metadata": {
        "colab": {
          "base_uri": "https://localhost:8080/"
        },
        "id": "H89GVX2v6cuL",
        "outputId": "d8718ccf-ffba-49e4-a75b-464c21edf1d6"
      },
      "execution_count": null,
      "outputs": [
        {
          "output_type": "execute_result",
          "data": {
            "text/plain": [
              "category\n",
              "a-arms                                                [$28.99, $7.45]\n",
              "accent furniture                                             [$39.99]\n",
              "accents                                           [$39.02, $2,466.52]\n",
              "accessories                                          [$24.53, $14.99]\n",
              "accessory & keychain carabiners                      [$8.06 - $25.99]\n",
              "                                                  ...                \n",
              "wrist guards                       [$12.76 - $21.69, $12.00 - $16.00]\n",
              "writing & correction supplies                         [$14.43, $5.82]\n",
              "xbox one                                                     [$10.00]\n",
              "yard signs                                                   [$17.54]\n",
              "yo-yos                                                 [$5.29, $3.99]\n",
              "Length: 1163, dtype: object"
            ]
          },
          "metadata": {},
          "execution_count": 54
        }
      ]
    },
    {
      "cell_type": "markdown",
      "source": [
        "# ROUGH WORK"
      ],
      "metadata": {
        "id": "TurjjCn42Ltm"
      }
    },
    {
      "cell_type": "code",
      "source": [
        "((df.head()['category']).map(lambda x: \n",
        "                          [i.lower().rstrip().lstrip() for i in x.lower().split('|')]\n",
        "                          )).explode()"
      ],
      "metadata": {
        "colab": {
          "base_uri": "https://localhost:8080/"
        },
        "id": "HxUcziNYz-89",
        "outputId": "dd8fb624-dbf5-4571-e5a7-78cfa2a785dc"
      },
      "execution_count": null,
      "outputs": [
        {
          "output_type": "execute_result",
          "data": {
            "text/plain": [
              "0                    sports & outdoors\n",
              "0                   outdoor recreation\n",
              "0       skates, skateboards & scooters\n",
              "0                        skateboarding\n",
              "0    standard skateboards & longboards\n",
              "0                           longboards\n",
              "1                         toys & games\n",
              "1                 learning & education\n",
              "1                  science kits & toys\n",
              "2                         toys & games\n",
              "2                        arts & crafts\n",
              "2                           craft kits\n",
              "3                         toys & games\n",
              "3                              hobbies\n",
              "3                  models & model kits\n",
              "3                           model kits\n",
              "3                  airplane & jet kits\n",
              "4                         toys & games\n",
              "4                              puzzles\n",
              "4                       jigsaw puzzles\n",
              "Name: category, dtype: object"
            ]
          },
          "metadata": {},
          "execution_count": 35
        }
      ]
    },
    {
      "cell_type": "markdown",
      "source": [
        "# References"
      ],
      "metadata": {
        "id": "zh61wow72QD4"
      }
    },
    {
      "cell_type": "code",
      "source": [
        "# https://www.kaggle.com/datasets/promptcloud/amazon-product-dataset-2020"
      ],
      "metadata": {
        "id": "Jtqc2-g_2NkO"
      },
      "execution_count": null,
      "outputs": []
    },
    {
      "cell_type": "code",
      "source": [
        ""
      ],
      "metadata": {
        "id": "kHqRa4V-2VLu"
      },
      "execution_count": null,
      "outputs": []
    }
  ]
}