{
  "nbformat": 4,
  "nbformat_minor": 0,
  "metadata": {
    "colab": {
      "name": "FinalExam_ShubhamSIngh_ss96589.ipynb",
      "provenance": [],
      "collapsed_sections": []
    },
    "kernelspec": {
      "name": "python3",
      "display_name": "Python 3"
    },
    "language_info": {
      "name": "python"
    }
  },
  "cells": [
    {
      "cell_type": "markdown",
      "source": [
        ""
      ],
      "metadata": {
        "id": "NvknbM0sCcKl"
      }
    },
    {
      "cell_type": "code",
      "execution_count": 1,
      "metadata": {
        "id": "hSO5ZF-UyUuM"
      },
      "outputs": [],
      "source": [
        "import numpy as np"
      ]
    },
    {
      "cell_type": "code",
      "source": [
        "from itertools import permutations as p\n",
        "\n",
        "l=list('BMSP')\n",
        "l"
      ],
      "metadata": {
        "colab": {
          "base_uri": "https://localhost:8080/"
        },
        "id": "mu-iItjvyYjq",
        "outputId": "cfc0d479-5a67-4dd3-d106-007d98091a9b"
      },
      "execution_count": 1,
      "outputs": [
        {
          "output_type": "execute_result",
          "data": {
            "text/plain": [
              "['B', 'M', 'S', 'P']"
            ]
          },
          "metadata": {},
          "execution_count": 1
        }
      ]
    },
    {
      "cell_type": "code",
      "source": [
        "# list(p(l))"
      ],
      "metadata": {
        "id": "Sq6v4AD7ylMe"
      },
      "execution_count": 3,
      "outputs": []
    },
    {
      "cell_type": "code",
      "source": [
        "from itertools import combinations as c\n",
        "l=list('bmsp')\n",
        "\n",
        "lt=[ii for i in range(len(l)+1) for ii in list(c(l,i)) ]\n",
        "\n"
      ],
      "metadata": {
        "id": "fjlzPxiLywMC"
      },
      "execution_count": 7,
      "outputs": []
    },
    {
      "cell_type": "code",
      "source": [
        "len(lt)"
      ],
      "metadata": {
        "colab": {
          "base_uri": "https://localhost:8080/"
        },
        "id": "GwmnB5myy5Sj",
        "outputId": "a6eef987-0caa-454a-d480-19cd9a6cde09"
      },
      "execution_count": 8,
      "outputs": [
        {
          "output_type": "execute_result",
          "data": {
            "text/plain": [
              "16"
            ]
          },
          "metadata": {},
          "execution_count": 8
        }
      ]
    },
    {
      "cell_type": "code",
      "source": [
        "lt"
      ],
      "metadata": {
        "colab": {
          "base_uri": "https://localhost:8080/"
        },
        "id": "-LOFV0XA0h_o",
        "outputId": "6e49449b-83fa-4a06-e5d7-04688df1ccd2"
      },
      "execution_count": 9,
      "outputs": [
        {
          "output_type": "execute_result",
          "data": {
            "text/plain": [
              "[(),\n",
              " ('b',),\n",
              " ('m',),\n",
              " ('s',),\n",
              " ('p',),\n",
              " ('b', 'm'),\n",
              " ('b', 's'),\n",
              " ('b', 'p'),\n",
              " ('m', 's'),\n",
              " ('m', 'p'),\n",
              " ('s', 'p'),\n",
              " ('b', 'm', 's'),\n",
              " ('b', 'm', 'p'),\n",
              " ('b', 's', 'p'),\n",
              " ('m', 's', 'p'),\n",
              " ('b', 'm', 's', 'p')]"
            ]
          },
          "metadata": {},
          "execution_count": 9
        }
      ]
    },
    {
      "cell_type": "code",
      "source": [
        "dict_SellingPrice={\n",
        "    'b':4,\n",
        "    'm':4.5,\n",
        "    's':4,\n",
        "    'p':4\n",
        "}\n",
        "\n",
        "dict_CostPrice={\n",
        "    'b':2.5,\n",
        "    'm':2.5,\n",
        "    's':1.5,\n",
        "    'p':2\n",
        "}\n",
        "cust_1=[['b','m'],50]\n",
        "cust_2=[['s','p'],25]\n",
        "cust_3=[['p'],35]\n",
        "cust_4=[['p','b','m','s'],30]\n",
        "\n",
        "lt_customer=[cust_1,cust_2,cust_3,cust_4]\n",
        "\n",
        "\n",
        "asst=lt[-2]\n",
        "\n",
        "def compute_profit(asst):\n",
        "  total_for_asst=0\n",
        "  for cust in lt_customer:\n",
        "    cust_pref=cust[0]\n",
        "    cust_num=cust[1]\n",
        "\n",
        "    cust_choices=[i for i in cust_pref if i in asst]\n",
        "    if len(cust_choices)<=0:\n",
        "      total_for_asst+=0\n",
        "    else:\n",
        "      choice=cust_choices[0]\n",
        "      sp=dict_SellingPrice[choice]\n",
        "      cp=dict_CostPrice[choice]\n",
        "\n",
        "      margin=sp-cp\n",
        "      temp_profit=cust_num*margin\n",
        "      total_for_asst+=temp_profit\n",
        "  return total_for_asst\n",
        "\n",
        "\n",
        "\n"
      ],
      "metadata": {
        "id": "HmLuXEF0unFk"
      },
      "execution_count": 17,
      "outputs": []
    },
    {
      "cell_type": "code",
      "source": [
        "''.join([i.upper() for i in asst])\n",
        "asst=lt[-5]\n",
        "\n",
        "compute_profit(asst)"
      ],
      "metadata": {
        "colab": {
          "base_uri": "https://localhost:8080/"
        },
        "id": "KHmyhRBrvo6h",
        "outputId": "4fd7e3d9-0ee3-492c-b67b-82a4d103bb84"
      },
      "execution_count": 21,
      "outputs": [
        {
          "output_type": "execute_result",
          "data": {
            "text/plain": [
              "182.5"
            ]
          },
          "metadata": {},
          "execution_count": 21
        }
      ]
    },
    {
      "cell_type": "code",
      "source": [
        "from collections import defaultdict\n",
        "\n",
        "dict_asst_profit=defaultdict()\n",
        "\n",
        "for asst in lt:\n",
        "  nm=''.join([i.upper() for i in asst])\n",
        "  profit=compute_profit(asst)\n",
        "\n",
        "  dict_asst_profit[nm]=profit\n",
        "\n",
        "\n",
        "\n"
      ],
      "metadata": {
        "id": "ri2oa8SRxBWN"
      },
      "execution_count": 22,
      "outputs": []
    },
    {
      "cell_type": "code",
      "source": [
        "sorted(dict_asst_profit.items(),key=lambda x: x[1],reverse=True)"
      ],
      "metadata": {
        "colab": {
          "base_uri": "https://localhost:8080/"
        },
        "id": "cYW-Zx1RyN0l",
        "outputId": "06aa70c1-0cfa-46f0-a4dd-95e212c6f54d"
      },
      "execution_count": 24,
      "outputs": [
        {
          "output_type": "execute_result",
          "data": {
            "text/plain": [
              "[('MSP', 292.5),\n",
              " ('MP', 280.0),\n",
              " ('BSP', 267.5),\n",
              " ('BMSP', 267.5),\n",
              " ('BP', 255.0),\n",
              " ('BMP', 255.0),\n",
              " ('MS', 222.5),\n",
              " ('SP', 192.5),\n",
              " ('BS', 182.5),\n",
              " ('BMS', 182.5),\n",
              " ('P', 180),\n",
              " ('M', 160.0),\n",
              " ('S', 137.5),\n",
              " ('B', 120.0),\n",
              " ('BM', 120.0),\n",
              " ('', 0)]"
            ]
          },
          "metadata": {},
          "execution_count": 24
        }
      ]
    },
    {
      "cell_type": "code",
      "source": [
        ""
      ],
      "metadata": {
        "id": "PRPdNyXwykbZ"
      },
      "execution_count": null,
      "outputs": []
    },
    {
      "cell_type": "code",
      "source": [
        ""
      ],
      "metadata": {
        "id": "-qslBovO8NmH"
      },
      "execution_count": null,
      "outputs": []
    },
    {
      "cell_type": "markdown",
      "source": [
        "# ANSWER 3 Dynamic pricing\n",
        "\n",
        "\n",
        "States 10 capacity seats and 5 time periods \n",
        "For each state we have two choices price_high or price_low \n",
        "\n",
        "for each price there is state wise distribution of 0 to 3 seats being sold\n",
        "\n",
        "\n",
        "\n",
        "dynamics of values will be determined in stochastic manner"
      ],
      "metadata": {
        "id": "dC-L3FD79E1n"
      }
    },
    {
      "cell_type": "code",
      "source": [
        "dict_lp={\n",
        "    0:0.2,\n",
        "    1:0.3,\n",
        "    2:0.3,\n",
        "    3:0.2\n",
        "}\n",
        "\n",
        "dict_hp={\n",
        "    0:0.7,\n",
        "    1:0.2,\n",
        "    2:0.1,\n",
        "    3:0.0\n",
        "}"
      ],
      "metadata": {
        "id": "z08ks3eP8NuT"
      },
      "execution_count": 41,
      "outputs": []
    },
    {
      "cell_type": "markdown",
      "source": [
        "Stop criterion capacity =0 or time ==0"
      ],
      "metadata": {
        "id": "6HAhAwPd9fQw"
      }
    },
    {
      "cell_type": "code",
      "source": [
        "import numpy as np\n",
        "\n",
        "num_of_seats=10\n",
        "num_of_days=5\n",
        "\n",
        "\n",
        "V=np.zeros(shape=(num_of_days+1,num_of_seats+1))\n",
        "V.shape\n",
        "\n",
        "choice_arr=np.zeros(shape=(num_of_days+1,num_of_seats+1))\n",
        "choice_arr=np.array(\n",
        "    [['N' for i in range(num_of_seats+1)] for _ in range(num_of_days+1) ]\n",
        ")\n",
        "\n",
        "price_high=300\n",
        "price_low=150\n",
        "\n",
        "# choice high=2,low=1, not_valid=-1\n",
        "choice_arr.shape"
      ],
      "metadata": {
        "colab": {
          "base_uri": "https://localhost:8080/"
        },
        "id": "JXIJyyo49byT",
        "outputId": "388fbed1-8386-452b-dbee-cff73e168458"
      },
      "execution_count": 42,
      "outputs": [
        {
          "output_type": "execute_result",
          "data": {
            "text/plain": [
              "(6, 11)"
            ]
          },
          "metadata": {},
          "execution_count": 42
        }
      ]
    },
    {
      "cell_type": "code",
      "source": [
        "for d in reversed(range(num_of_days+1)):\n",
        "  for s in reversed(range(num_of_seats+1)):\n",
        "\n",
        "    #choices will be 2\n",
        "    if s<=0:\n",
        "      V[d,s]=0\n",
        "    \n",
        "    else:\n",
        "\n",
        "      value_high=0\n",
        "      for h_i in dict_hp.keys():\n",
        "        prob_i=dict_hp[h_i]\n",
        "\n",
        "        if s-h_i<0:\n",
        "          fut_value=0\n",
        "        else:\n",
        "          fut_value=V[d-1,s-h_i]\n",
        "\n",
        "\n",
        "        temp_score_i=price_high*prob_i*h_i + fut_value\n",
        "        value_high+=temp_score_i\n",
        "\n",
        "      value_low=0\n",
        "      for l_i in dict_lp.keys():\n",
        "        prob_i=dict_lp[l_i]\n",
        "\n",
        "        if s-h_i<0:\n",
        "          fut_value=0\n",
        "        else:\n",
        "          fut_value=V[d-1,s-h_i]\n",
        "\n",
        "        temp_score_i=price_low*prob_i*l_i + fut_value*prob_i\n",
        "        value_low+=temp_score_i\n",
        "      \n",
        "\n",
        "      \n",
        "      V[d,s]=max([value_high,value_low])\n",
        "\n",
        "      if value_high>value_low:\n",
        "        choice_arr[d,s]='H'\n",
        "      else:\n",
        "        choice_arr[d,s]='L'\n"
      ],
      "metadata": {
        "id": "wDJ7HSAg9cBI"
      },
      "execution_count": 43,
      "outputs": []
    },
    {
      "cell_type": "code",
      "source": [
        "V"
      ],
      "metadata": {
        "colab": {
          "base_uri": "https://localhost:8080/"
        },
        "id": "ij2zalJw9cLF",
        "outputId": "044d7974-52e4-439d-e297-33f123ea0658"
      },
      "execution_count": 45,
      "outputs": [
        {
          "output_type": "execute_result",
          "data": {
            "text/plain": [
              "array([[   0.,  345.,  570.,  795., 1125., 1125., 1125., 1125., 1125.,\n",
              "        1125., 1125.],\n",
              "       [   0.,  225.,  225.,  225.,  225.,  225.,  225.,  225.,  225.,\n",
              "         225.,  225.],\n",
              "       [   0.,  225.,  225.,  225.,  225.,  225.,  225.,  225.,  225.,\n",
              "         225.,  225.],\n",
              "       [   0.,  225.,  225.,  225.,  225.,  225.,  225.,  225.,  225.,\n",
              "         225.,  225.],\n",
              "       [   0.,  225.,  225.,  225.,  225.,  225.,  225.,  225.,  225.,\n",
              "         225.,  225.],\n",
              "       [   0.,  225.,  225.,  225.,  225.,  225.,  225.,  225.,  225.,\n",
              "         225.,  225.]])"
            ]
          },
          "metadata": {},
          "execution_count": 45
        }
      ]
    },
    {
      "cell_type": "code",
      "source": [
        "choice_arr"
      ],
      "metadata": {
        "colab": {
          "base_uri": "https://localhost:8080/"
        },
        "id": "Gubo9ooeBjny",
        "outputId": "0be537b1-8899-4fd3-d1c8-14d77e0ac233"
      },
      "execution_count": 46,
      "outputs": [
        {
          "output_type": "execute_result",
          "data": {
            "text/plain": [
              "array([['N', 'H', 'H', 'H', 'L', 'L', 'L', 'L', 'L', 'L', 'L'],\n",
              "       ['N', 'L', 'L', 'L', 'L', 'L', 'L', 'L', 'L', 'L', 'L'],\n",
              "       ['N', 'L', 'L', 'L', 'L', 'L', 'L', 'L', 'L', 'L', 'L'],\n",
              "       ['N', 'L', 'L', 'L', 'L', 'L', 'L', 'L', 'L', 'L', 'L'],\n",
              "       ['N', 'L', 'L', 'L', 'L', 'L', 'L', 'L', 'L', 'L', 'L'],\n",
              "       ['N', 'L', 'L', 'L', 'L', 'L', 'L', 'L', 'L', 'L', 'L']],\n",
              "      dtype='<U1')"
            ]
          },
          "metadata": {},
          "execution_count": 46
        }
      ]
    },
    {
      "cell_type": "code",
      "source": [
        "# Rough Work"
      ],
      "metadata": {
        "id": "O294HRe_BmLj"
      },
      "execution_count": 48,
      "outputs": []
    },
    {
      "cell_type": "code",
      "source": [
        "# for s in reversed(range(3)):\n",
        "#   print(s)"
      ],
      "metadata": {
        "id": "imfF6inJExdh"
      },
      "execution_count": null,
      "outputs": []
    }
  ]
}
